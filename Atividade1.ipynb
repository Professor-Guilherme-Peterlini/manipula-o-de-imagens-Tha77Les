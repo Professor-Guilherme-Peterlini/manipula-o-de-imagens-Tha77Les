{
 "cells": [
  {
   "cell_type": "code",
   "execution_count": 67,
   "metadata": {},
   "outputs": [
    {
     "name": "stdout",
     "output_type": "stream",
     "text": [
      "Requirement already satisfied: Pillow in /home/codespace/.local/lib/python3.12/site-packages (11.0.0)\n",
      "Note: you may need to restart the kernel to use updated packages.\n"
     ]
    }
   ],
   "source": [
    "pip install Pillow"
   ]
  },
  {
   "cell_type": "markdown",
   "metadata": {},
   "source": [
    "#Importando do módulo PIL"
   ]
  },
  {
   "cell_type": "code",
   "execution_count": 68,
   "metadata": {},
   "outputs": [],
   "source": [
    "from PIL import Image, ImageEnhance, ImageFilter"
   ]
  },
  {
   "cell_type": "markdown",
   "metadata": {},
   "source": [
    "#Abrindo a imagem"
   ]
  },
  {
   "cell_type": "code",
   "execution_count": 69,
   "metadata": {},
   "outputs": [],
   "source": [
    "imagem = Image.open('pain botafoguense.png')"
   ]
  },
  {
   "cell_type": "markdown",
   "metadata": {},
   "source": [
    "#Mostrando as informações sobre a imagem"
   ]
  },
  {
   "cell_type": "code",
   "execution_count": 70,
   "metadata": {},
   "outputs": [
    {
     "name": "stdout",
     "output_type": "stream",
     "text": [
      "Formato: JPEG\n",
      "Tamanho: (247, 221)\n",
      "Modo: RGB\n"
     ]
    }
   ],
   "source": [
    "print(f\"Formato: {imagem.format}\")\n",
    "print(f\"Tamanho: {imagem.size}\")\n",
    "print(f\"Modo: {imagem.mode}\")"
   ]
  },
  {
   "cell_type": "markdown",
   "metadata": {},
   "source": [
    "#Função para mudar o tamanho da imagem"
   ]
  },
  {
   "cell_type": "code",
   "execution_count": 71,
   "metadata": {},
   "outputs": [],
   "source": [
    "def redimensionar_imagem(imagem, fator=0.5):\n",
    "    novo_tamanho = (int(imagem.size[0] * fator), int(imagem.size[1] * fator))\n",
    "    imagem_redimensionada = imagem.resize(novo_tamanho)\n",
    "    return imagem_redimensionada"
   ]
  },
  {
   "cell_type": "markdown",
   "metadata": {},
   "source": [
    "#Executando a função"
   ]
  },
  {
   "cell_type": "code",
   "execution_count": 72,
   "metadata": {},
   "outputs": [],
   "source": [
    "imagem_pequena = redimensionar_imagem(imagem)\n",
    "imagem_pequena.save('pain menor.jpg')"
   ]
  },
  {
   "cell_type": "markdown",
   "metadata": {},
   "source": [
    "#Exibindo informações da nova imagem "
   ]
  },
  {
   "cell_type": "code",
   "execution_count": 73,
   "metadata": {},
   "outputs": [
    {
     "name": "stdout",
     "output_type": "stream",
     "text": [
      "Formato: None\n",
      "Tamanho: (123, 110)\n",
      "Modo: RGB\n"
     ]
    }
   ],
   "source": [
    "print(f\"Formato: {imagem_pequena.format}\")\n",
    "print(f\"Tamanho: {imagem_pequena.size}\")\n",
    "print(f\"Modo: {imagem_pequena.mode}\")"
   ]
  },
  {
   "cell_type": "markdown",
   "metadata": {},
   "source": [
    "#Código para rodar e espelhar a imagem"
   ]
  },
  {
   "cell_type": "code",
   "execution_count": 74,
   "metadata": {},
   "outputs": [],
   "source": [
    "def transformar_imagem(imagem):\n",
    "    rotacionada = imagem.rotate(45, expand=True)\n",
    "    \n",
    "    espelhada = imagem.transpose(Image.FLIP_LEFT_RIGHT)\n",
    "    \n",
    "    return rotacionada, espelhada"
   ]
  },
  {
   "cell_type": "markdown",
   "metadata": {},
   "source": [
    "#Testando as diferenças na imagem"
   ]
  },
  {
   "cell_type": "code",
   "execution_count": 75,
   "metadata": {},
   "outputs": [],
   "source": [
    "rotacionada, espelhada = transformar_imagem(imagem)\n",
    "rotacionada.save('pain de ladinho.jpg')\n",
    "espelhada.save('pain ao inverso.jpg')"
   ]
  },
  {
   "cell_type": "markdown",
   "metadata": {},
   "source": [
    "#Função que adiciona esfeitos nas imagens"
   ]
  },
  {
   "cell_type": "code",
   "execution_count": 76,
   "metadata": {},
   "outputs": [],
   "source": [
    "def aplicar_filtros(imagem):\n",
    "    # Aumenta a nitidez\n",
    "    nitidez = imagem.filter(ImageFilter.SHARPEN)\n",
    "    \n",
    "    # Dá efeito de desfoque\n",
    "    desfoque = imagem.filter(ImageFilter.BLUR)\n",
    "    \n",
    "    # Encontra as bordas\n",
    "    bordas = imagem.filter(ImageFilter.FIND_EDGES)\n",
    "    \n",
    "    return nitidez, desfoque, bordas"
   ]
  },
  {
   "cell_type": "markdown",
   "metadata": {},
   "source": [
    "#Testando a função de efeitos"
   ]
  },
  {
   "cell_type": "code",
   "execution_count": 77,
   "metadata": {},
   "outputs": [],
   "source": [
    "nitidez, desfoque, bordas = aplicar_filtros(imagem)\n",
    "nitidez.save('pain 100% nitidez.jpg')\n",
    "desfoque.save('pain mais embaçado que o normal.jpg')\n",
    "bordas.save('pain preto.jpg')"
   ]
  },
  {
   "cell_type": "markdown",
   "metadata": {},
   "source": [
    "#Desafio final"
   ]
  },
  {
   "cell_type": "code",
   "execution_count": 78,
   "metadata": {},
   "outputs": [],
   "source": [
    "def processamento_completo(imagem):\n",
    "    # Alterar o tamanho da foto\n",
    "    img_redimensionada = redimensionar_imagem(imagem, 0.75)\n",
    "    \n",
    "    # Rodar a imagem em 30º\n",
    "    img_rotacionada = img_redimensionada.rotate(30, expand=True)\n",
    "    \n",
    "    # Aumentando a nitidez da imagem\n",
    "    img_filtrada = img_rotacionada.filter(ImageFilter.SHARPEN)\n",
    "    \n",
    "    # Aumentando o brilho da imagem em 20%\n",
    "    enhancer = ImageEnhance.Brightness(img_filtrada)\n",
    "    img_brilho = enhancer.enhance(1.2)\n",
    "    \n",
    "    # Aumentando o brilho da imagem em 30%\n",
    "    enhancer = ImageEnhance.Contrast(img_brilho)\n",
    "    img_final = enhancer.enhance(1.3)\n",
    "    \n",
    "    return img_final"
   ]
  },
  {
   "cell_type": "code",
   "execution_count": 79,
   "metadata": {},
   "outputs": [],
   "source": [
    "imagem_final = processamento_completo(imagem)\n",
    "imagem_final.save('pain final.jpg')"
   ]
  }
 ],
 "metadata": {
  "kernelspec": {
   "display_name": "Python 3",
   "language": "python",
   "name": "python3"
  },
  "language_info": {
   "codemirror_mode": {
    "name": "ipython",
    "version": 3
   },
   "file_extension": ".py",
   "mimetype": "text/x-python",
   "name": "python",
   "nbconvert_exporter": "python",
   "pygments_lexer": "ipython3",
   "version": "3.12.1"
  }
 },
 "nbformat": 4,
 "nbformat_minor": 2
}
